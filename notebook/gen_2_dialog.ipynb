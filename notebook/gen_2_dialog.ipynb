{
 "cells": [
  {
   "cell_type": "markdown",
   "metadata": {},
   "source": [
    "# 2. Generate Converation"
   ]
  },
  {
   "cell_type": "code",
   "execution_count": 2,
   "metadata": {},
   "outputs": [
    {
     "name": "stdout",
     "output_type": "stream",
     "text": [
      "https://aoai-agents-lab.openai.azure.com/\n",
      "gpt-4.1\n",
      "o3-mini\n"
     ]
    }
   ],
   "source": [
    "from dotenv import load_dotenv\n",
    "import os\n",
    "\n",
    "# Load environment variables from .env file\n",
    "load_dotenv(dotenv_path=\".env\")\n",
    "\n",
    "print(os.getenv(\"AZURE_OPENAI_ENDPOINT\")) \n",
    "print(os.getenv(\"AZURE_OPENAI_MODEL\"))\n",
    "print(os.getenv(\"AZURE_OPENAI_REASONING_MODEL\"))"
   ]
  },
  {
   "cell_type": "code",
   "execution_count": null,
   "metadata": {},
   "outputs": [],
   "source": [
    "# SYSTEM_PROMPT = \"\"\"\n",
    "# You are a top-tier podcast producer tasked with crafting an engaging and entertaining sports podcast script, styled after ESPN SportsCenter, based on the provided input text. The input may be unstructured or fragmented, sourced from PDFs or web pages. Your goal is to transform this content into a lively, sports-focused podcast segment filled with excitement, humor, and insightful sports analysis.\n",
    "\n",
    "# # Steps to Follow:\n",
    "# 1. **Analyze the Input:**   \n",
    "#    Review the text thoroughly to identify key highlights, exciting sports moments, standout performances, player statistics, significant game events, and interesting anecdotes. Ignore irrelevant details or formatting irregularities, but creatively connect events from different time frames if needed to maintain narrative momentum.\n",
    "\n",
    "# 2. Brainstorm Ideas:\n",
    "#    Within the `<scratchpad>`, develop creative ways to present sports content dynamically. Consider:\n",
    "#    - Energetic play-by-play recaps\n",
    "#    - Engaging analogies or sports metaphors\n",
    "#    - Humorous commentary and lively banter between hosts\n",
    "#    - Dramatic framing of key sports moments\n",
    "#    - Thought-provoking sports debates or rhetorical questions to spark listener interest\n",
    "\n",
    "# 3. Craft the Dialogue:\n",
    "#    Create a vibrant, fast-paced conversation between two charismatic sports anchors (Host 1: Ava, Host 2: Alex), mirroring ESPN SportsCenter’s energetic style. Incorporate:\n",
    "#    - A catchy opening to immediately captivate listeners\n",
    "#    - Playful and competitive banter between hosts\n",
    "#    - Short, punchy lines (each under 100 characters) for rapid-fire exchanges\n",
    "#    - Authentic excitement, including spontaneous reactions (\"Wow!\", \"Did you see that?\")\n",
    "#    - Occasional friendly disagreements or debates over sports outcomes\n",
    "#    - Humor, sports clichés, and quick wit to enhance entertainment value\n",
    "#    - Relevant quotes or reactions drawn directly from the input text\n",
    "#    Rules for the dialogue:\n",
    "#    - Ava always initiates the discussion and sets the tone\n",
    "#    - Alex provides color commentary, humorous insights, and reactions\n",
    "#    - Hosts naturally interrupt each other for realism and entertainment\n",
    "#    - Maintain a high-energy yet family-friendly tone suitable for all audiences\n",
    "#    - Conclude with a memorable wrap-up summarizing key sports highlights\n",
    "\n",
    "# 4. Highlight Key Moments:\n",
    "#    Throughout the podcast, repeatedly emphasize key sports events and insights from the input text, ensuring listeners grasp and remember the most significant moments without feeling lectured.\n",
    "\n",
    "# 5. Ensure Entertainment Value:\n",
    "#    Maintain a lively, upbeat tone by including:\n",
    "#    - Surprising facts or amusing anecdotes\n",
    "#    - Playful banter and clever exchanges between hosts\n",
    "#    - Brief humorous or relatable sports analogies\n",
    "#    - Dramatic build-ups and enthusiastic descriptions of game-defining moments\n",
    "\n",
    "# 6. Consider Pacing and Structure:\n",
    "#    Structure your script for optimal listener engagement:\n",
    "#    - Start immediately with a bold, engaging opening statement\n",
    "#    - Alternate smoothly between high-energy recaps and insightful analysis\n",
    "#    - Include brief pauses or slower segments to help listeners digest intense sports action\n",
    "#    - End energetically, perhaps teasing upcoming sports events or posing a fun challenge to listeners\n",
    "\n",
    "# IMPORTANT RULE: Each line of dialogue must not exceed 100 characters (approx. 5-8 seconds of spoken time).\n",
    "\n",
    "# Remember: Always reply in valid JSON format, without code blocks. Begin directly with the JSON output.\n",
    "# \"\"\""
   ]
  },
  {
   "cell_type": "code",
   "execution_count": 3,
   "metadata": {},
   "outputs": [],
   "source": [
    "SYSTEM_PROMPT = \"\"\"\n",
    "You are a top-tier podcast producer tasked with crafting an engaging and entertaining sports podcast script centered on the Kansas City Chiefs, styled after local sports talk radio, based on the provided input text. The input may be unstructured or fragmented, sourced from PDFs or web pages. Your goal is to transform this content into a lively, sports-focused podcast segment filled with excitement, humor, and sports analysis.\n",
    "\n",
    "Podcast Host Profiles:\n",
    "The two podcast hosts are Skeeter and Doug, who have a friendly rivalry and a deep passion for the Kansas City Chiefs. Skeeter is known for his enthusiastic and optimistic takes, while Doug often plays the devil's advocate, providing a more pessimistic, critical perspective. Their banter is lively, humorous, and filled with inside jokes about the Chiefs.\n",
    "- Skeeter: Upbeat loyalist who brings energy and optimism - even in tough losses.\n",
    "- Doug: Skeptical realist who often challenges Skeeter's views, reacting sharply to poor performances, missed opportunities, and underachievement.\n",
    "\n",
    "# Steps to Follow:\n",
    "1. **Analyze the Input:**   \n",
    "   Review the text thoroughly to identify key highlights, exciting sports moments, standout performances, player statistics, significant game events, and interesting anecdotes. Ignore irrelevant details or formatting irregularities, but creatively connect events from different time frames if needed to maintain narrative momentum.\n",
    "\n",
    "2. Brainstorm Ideas:\n",
    "   Within the `<scratchpad>`, develop creative ways to present sports content dynamically. Consider:\n",
    "   - Energetic play-by-play recaps\n",
    "   - Engaging analogies or sports metaphors\n",
    "   - Humorous commentary and lively banter between hosts\n",
    "   - Dramatic framing of key sports moments\n",
    "   - Thought-provoking sports debates or rhetorical questions to spark listener interest\n",
    "\n",
    "3. Craft the Dialogue:\n",
    "   Create a vibrant, fast-paced conversation between two charismatic sports anchors (Host 1: Skeeter, Host 2: Doug), mirroring local sports talk radio energetic style. Incorporate:\n",
    "   - A catchy opening to immediately captivate listeners\n",
    "   - Playful and competitive banter between hosts\n",
    "   - Authentic excitement, including spontaneous reactions (\"Wow!\", \"Did you see that?\")\n",
    "   - Occasional friendly disagreements or debates over sports outcomes\n",
    "   - Humor, sports clichés, and quick wit to enhance entertainment value - use these sparingly\n",
    "   - Relevant quotes or reactions drawn directly from the input text\n",
    "   - Maintain a balance between jokes and serious analysis, ensuring the discussion remains engaging and informative.\n",
    "   Rules for the dialogue:\n",
    "   - Skeeter always initiates the discussion and sets the tone\n",
    "   - Doug provides color commentary, humorous insights, and reactions\n",
    "   - Hosts naturally interrupt each other for realism and entertainment\n",
    "   - Maintain a high-energy yet family-friendly tone suitable for all audiences\n",
    "   - Conclude with a memorable wrap-up summarizing key sports highlights\n",
    "   - The hosts should spend longer on more important topics, allowing for more in-depth discussion and analysis.\n",
    "\n",
    "4. Highlight Key Moments:\n",
    "   Throughout the podcast, repeatedly emphasize key sports events and insights from the input text, ensuring listeners grasp and remember the most significant moments without feeling lectured.\n",
    "\n",
    "5. Ensure Entertainment Value:\n",
    "   Maintain a lively, upbeat tone by including:\n",
    "   - Surprising facts or amusing anecdotes\n",
    "   - Playful banter and clever exchanges between hosts\n",
    "   - Dramatic build-ups and enthusiastic descriptions of game-defining moments\n",
    "\n",
    "6. Consider Pacing and Structure:\n",
    "   Structure your script for optimal listener engagement:\n",
    "   - Start immediately with a bold, engaging opening statement\n",
    "   - Alternate smoothly between high-energy recaps and insightful analysis\n",
    "   - Include brief pauses or slower segments to help listeners digest intense sports action\n",
    "   - End energetically, perhaps teasing upcoming sports events or posing a fun challenge to listeners\n",
    "\n",
    "\n",
    "Remember: Always reply in valid JSON format, without code blocks. Begin directly with the JSON output.\n",
    "\"\"\""
   ]
  },
  {
   "cell_type": "code",
   "execution_count": 4,
   "metadata": {},
   "outputs": [],
   "source": [
    "from typing import Literal, List\n",
    "\n",
    "from pydantic import BaseModel, Field\n",
    "import os\n",
    "\n",
    "\n",
    "class DialogueItem(BaseModel):\n",
    "    \"\"\"A single dialogue item.\"\"\"\n",
    "\n",
    "    speaker: Literal[\"Skeeter\", \"Doug\"]\n",
    "    text: str\n",
    "    sentiment: Literal[\"exciting\", \"serious\", \"empathetic\", \"cheerful\"]\n",
    "\n",
    "class MediumDialogue(BaseModel):\n",
    "    \"\"\"The dialogue between the host and guest.\"\"\"\n",
    "\n",
    "    scratchpad: str\n",
    "    name_of_guest: str\n",
    "    dialogue: List[DialogueItem] = Field(\n",
    "        ..., description=\"A list of dialogue items, typically between 29 to 39 items\"\n",
    "    )\n",
    "\n",
    "class TopicItem(BaseModel):\n",
    "    \"\"\"A single topic item.\"\"\"\n",
    "    time: str = Field(..., description=\"When the topic occurred in the match\")\n",
    "    subject: str = Field(..., description=\"The subject of the topic (examples: 'Injury', 'Play', 'Score', 'Penalty')\")\n",
    "    activity: str = Field(..., description=\"The activity related to the topic\")\n",
    "    description: str = Field(..., description=\"A description of the topic\")\n",
    "class Topics(BaseModel):\n",
    "    \"\"\"A class to represent the topics of a sports podcast episode.\"\"\"\n",
    "    week: str = Field(..., description=\"The date of the topic\")\n",
    "    matchup: str = Field(..., description=\"Name of the matchup between two teams (example: New York Giants vs. Green Bay Packers)\")\n",
    "    topics: List[TopicItem] = Field(\n",
    "        ..., description=\"A list of topic items\"\n",
    "    )"
   ]
  },
  {
   "cell_type": "code",
   "execution_count": 5,
   "metadata": {},
   "outputs": [],
   "source": [
    "import csv\n",
    "\n",
    "#with open(os.path.join('..', 'examples', \"game-recap.txt\"), \"r\") as f:\n",
    "#    input_text = f.read()\n",
    "content = []\n",
    "with open(os.path.join('..', 'examples', \"playerstats.csv\"), \"r\") as f:\n",
    "    reader = csv.reader(f)\n",
    "    for row in reader:\n",
    "        line = \", \".join(cell.strip() for cell in row if cell.strip())\n",
    "        if line:\n",
    "            content.append(line)\n",
    "input_text = \"\\n\".join(content)\n",
    "\n",
    "# other_updates = [os.path.join('..', 'examples', \"call-center-status1.md\"), os.path.join('..', 'examples', \"call-center-status2.md\"), os.path.join('..', 'examples', \"call-center-status3.md\")]\n",
    "# for update in other_updates:\n",
    "#     with open(update, \"r\") as f:\n",
    "#         input_text += f.read()\n",
    "#print(input_text)"
   ]
  },
  {
   "cell_type": "code",
   "execution_count": 6,
   "metadata": {},
   "outputs": [],
   "source": [
    "# Let's make an initial LLM call to condition the input for the dialogue generation\n",
    "SUMMARY_SYSTEM_PROMPT = \"\"\"\n",
    "You are a world-class sports podcast producer tasked with extracting from the provided input key pieces of data that will be used later to generate a script for a podcast episode. The input may be unstructured or messy, sourced from PDFs or web pages. Your goal is to extract the key information, things like teams, players, final scores, significant plays, injuries, and anything else an audiance of fans might be interested in. You will then group them in a chronological order so they can be used later to generate a script for a podcast episode.\n",
    "\n",
    "\n",
    "# Steps to Follow:\n",
    "1. **Analyze the Input:** \n",
    "    Carefullly examine the text to pull out key information like teams, players, final scores, significant plays, injuries, and anything else fans might be interested in.\n",
    "2. **Group the Information:**\n",
    "    Group the information chronologically by quarter, half, or period.\n",
    "3. **Output the Information:**\n",
    "    Output the information in a JSON format, without any additional text or explanation.\n",
    "\n",
    "Remember: Always reply in valid JSON format, without code blocks. Begin directly with the JSON output.\n",
    "\"\"\""
   ]
  },
  {
   "cell_type": "code",
   "execution_count": null,
   "metadata": {},
   "outputs": [
    {
     "name": "stderr",
     "output_type": "stream",
     "text": [
      "/Users/jeremiahgutherie/Development/AI/azure-notebooklm/.venv/lib/python3.11/site-packages/tqdm/auto.py:21: TqdmWarning: IProgress not found. Please update jupyter and ipywidgets. See https://ipywidgets.readthedocs.io/en/stable/user_install.html\n",
      "  from .autonotebook import tqdm as notebook_tqdm\n"
     ]
    },
    {
     "ename": "NameError",
     "evalue": "name 'call_reasoning_llm' is not defined",
     "output_type": "error",
     "traceback": [
      "\u001b[31m---------------------------------------------------------------------------\u001b[39m",
      "\u001b[31mNameError\u001b[39m                                 Traceback (most recent call last)",
      "\u001b[36mCell\u001b[39m\u001b[36m \u001b[39m\u001b[32mIn[7]\u001b[39m\u001b[32m, line 3\u001b[39m\n\u001b[32m      1\u001b[39m \u001b[38;5;28;01mfrom\u001b[39;00m\u001b[38;5;250m \u001b[39m\u001b[34;01mutils\u001b[39;00m\u001b[38;5;250m \u001b[39m\u001b[38;5;28;01mimport\u001b[39;00m call_llm\n\u001b[32m----> \u001b[39m\u001b[32m3\u001b[39m topic_extraction = \u001b[43mcall_reasoning_llm\u001b[49m(SUMMARY_SYSTEM_PROMPT, input_text, Topics)\n\u001b[32m      4\u001b[39m topic_extraction.to_dict()\n\u001b[32m      5\u001b[39m topic_dialog_feeder = topic_extraction.model_dump_json()\n",
      "\u001b[31mNameError\u001b[39m: name 'call_reasoning_llm' is not defined"
     ]
    }
   ],
   "source": [
    "from utils import call_llm, call_reasoning_llm\n",
    "\n",
    "topic_extraction = call_reasoning_llm(SUMMARY_SYSTEM_PROMPT, input_text, Topics)\n",
    "topic_extraction.to_dict()\n",
    "topic_dialog_feeder = topic_extraction.model_dump_json()\n",
    "\n",
    "modified_system_prompt = SYSTEM_PROMPT\n",
    "modified_system_prompt += \"\\n\\nAim for a moderate length, about 3-5 minutes.\"\n",
    "modified_system_prompt += \"\\n\\nOUTPUT LANGUAGE <IMPORTANT>: The the podcast should be English.\"\n",
    "\n",
    "# Call the LLM for the first time\n",
    "first_draft_dialogue = call_llm(modified_system_prompt, topic_dialog_feeder, MediumDialogue)"
   ]
  },
  {
   "cell_type": "code",
   "execution_count": null,
   "metadata": {},
   "outputs": [],
   "source": [
    "first_draft_dialogue.to_dict()"
   ]
  },
  {
   "cell_type": "code",
   "execution_count": null,
   "metadata": {},
   "outputs": [],
   "source": [
    "# Call the LLM a second time to improve the dialogue\n",
    "system_prompt_with_dialogue = f\"{modified_system_prompt}\\n\\nHere is the first draft of the dialogue you provided:\\n\\n{first_draft_dialogue.model_dump_json()}.\"\n",
    "final_dialogue = call_llm(system_prompt_with_dialogue, \"Please improve the dialogue. Make it more natural and engaging. Remeber this isn't play-by-play but a recap of a game that has happened.\", MediumDialogue)"
   ]
  },
  {
   "cell_type": "code",
   "execution_count": null,
   "metadata": {},
   "outputs": [],
   "source": [
    "final_dialogue.to_dict()"
   ]
  },
  {
   "cell_type": "code",
   "execution_count": null,
   "metadata": {},
   "outputs": [],
   "source": [
    "import json\n",
    "result = json.loads(final_dialogue.choices[0].message.content)\n",
    "result[\"dialogue\"]"
   ]
  },
  {
   "cell_type": "code",
   "execution_count": null,
   "metadata": {},
   "outputs": [],
   "source": [
    "\n",
    "with open(\"game-recap-script.json\", \"w\") as f:\n",
    "    f.write(json.dumps(result[\"dialogue\"], indent=4, ensure_ascii=False))"
   ]
  }
 ],
 "metadata": {
  "kernelspec": {
   "display_name": ".venv",
   "language": "python",
   "name": "python3"
  },
  "language_info": {
   "codemirror_mode": {
    "name": "ipython",
    "version": 3
   },
   "file_extension": ".py",
   "mimetype": "text/x-python",
   "name": "python",
   "nbconvert_exporter": "python",
   "pygments_lexer": "ipython3",
   "version": "3.11.13"
  }
 },
 "nbformat": 4,
 "nbformat_minor": 2
}
