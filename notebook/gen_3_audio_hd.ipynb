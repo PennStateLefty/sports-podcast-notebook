{
 "cells": [
  {
   "cell_type": "markdown",
   "metadata": {},
   "source": [
    "# 3. Generate Audio (HD Voice)\n",
    "\n",
    "https://learn.microsoft.com/en-us/azure/ai-services/speech-service/high-definition-voices"
   ]
  },
  {
   "cell_type": "code",
   "execution_count": 6,
   "metadata": {},
   "outputs": [
    {
     "name": "stdout",
     "output_type": "stream",
     "text": [
      "https://aoai-jmg-eastus.openai.azure.com/\n",
      "gpt-4o-mini\n"
     ]
    }
   ],
   "source": [
    "from dotenv import load_dotenv\n",
    "import os\n",
    "\n",
    "load_dotenv(dotenv_path=\".env\")\n",
    "\n",
    "print(os.getenv(\"AZURE_OPENAI_ENDPOINT\")) \n",
    "print(os.getenv(\"AZURE_OPENAI_MODEL\"))"
   ]
  },
  {
   "cell_type": "code",
   "execution_count": null,
   "metadata": {},
   "outputs": [],
   "source": [
    "import json\n",
    "\n",
    "with open(\"game-recap-script.json\",\"r\") as f:\n",
    "    jsfile = f.read()\n",
    "\n",
    "conversation = json.loads(jsfile)\n",
    "conversation"
   ]
  },
  {
   "cell_type": "markdown",
   "metadata": {},
   "source": [
    "## HD Options\n",
    "\n",
    "Default [temparature parameter](https://learn.microsoft.com/en-us/azure/ai-services/speech-service/high-definition-voices#how-to-use-azure-ai-speech-hd-voices) is 1.0\n",
    "\n",
    "```\n",
    "<voice name='en-us-Andrew2:DragonHDLatestNeural' parameters='temperature=0.1'>저도 감사합니다, 제인님. 다음에 또 뵙길 바랍니다.</voice>\n",
    "```"
   ]
  },
  {
   "cell_type": "code",
   "execution_count": 14,
   "metadata": {},
   "outputs": [],
   "source": [
    "def generate_ssml(host_voice, guest_voice):\n",
    "    \n",
    "    ssml = \"<speak version='1.0' xmlns='http://www.w3.org/2001/10/synthesis' xmlns:mstts='https://www.w3.org/2001/mstts' xml:lang='en-US'>\"\n",
    "    for r in conversation:\n",
    "        #print(row.to_dict())\n",
    "        \n",
    "        if r['speaker'] == 'Host (Ava)':\n",
    "            sentiment = r['sentiment']\n",
    "            if sentiment == 'exciting':\n",
    "                ssml += f\"\\n<voice name='{host_voice}' parameters='temperature=1.5'>{r['text']}</voice>\"\n",
    "            elif sentiment == 'serious':\n",
    "                ssml += f\"\\n<voice name='{host_voice}' parameters='temperature=0.75'>{r['text']}</voice>\"\n",
    "            elif sentiment == 'empathetic':\n",
    "                ssml += f\"\\n<voice name='{host_voice}' parameters='temperature=1'>{r['text']}</voice>\"\n",
    "            elif sentiment == 'cheerful':\n",
    "                ssml += f\"\\n<voice name='{host_voice}' parameters='temperature=1.15'>{r['text']}</voice>\"\n",
    "        else:\n",
    "            sentiment = r['sentiment']\n",
    "            if sentiment == 'exciting':\n",
    "                ssml += f\"\\n<voice name='{guest_voice}' parameters='temperature=1.5'>{r['text']}</voice>\"\n",
    "            elif sentiment == 'serious':\n",
    "                ssml += f\"\\n<voice name='{guest_voice}' parameters='temperature=0.75'>{r['text']}</voice>\"\n",
    "            elif sentiment == 'empathetic':\n",
    "                ssml += f\"\\n<voice name='{guest_voice}' parameters='temperature=1'>{r['text']}</voice>\"\n",
    "            elif sentiment == 'cheerful':\n",
    "                ssml += f\"\\n<voice name='{guest_voice}' parameters='temperature=1.15'>{r['text']}</voice>\"\n",
    "    ssml += \"\\n</speak>\"\n",
    "\n",
    "    #print(ssml)\n",
    "\n",
    "    return ssml\n",
    "\n",
    "def generate_multiturn_ssml(voice):\n",
    "    \n",
    "    ssml = f\"<speak version='1.0' xmlns='http://www.w3.org/2001/10/synthesis' xmlns:mstts='https://www.w3.org/2001/mstts' xml:lang='en-US'>\"\n",
    "    ssml += f\"\\n<voice name='{voice}'>\"\n",
    "    ssml += \"\\n<mstts:dialog>\"\n",
    "    for r in conversation:\n",
    "        #print(row.to_dict())\n",
    "        \n",
    "        if r['speaker'] == 'Host (Ava)':\n",
    "            sentiment = r['sentiment']\n",
    "            if sentiment == 'exciting':\n",
    "                ssml += f\"\\n<mstts:turn speaker='ava' style='sports_commentary_excited'>{r['text']}</mstts:turn>\"\n",
    "            elif sentiment == 'serious':\n",
    "                ssml += f\"\\n<mstts:turn speaker='ava' style='serious'>{r['text']}</mstts:turn>\"\n",
    "            elif sentiment == 'empathetic':\n",
    "                ssml += f\"\\n<mstts:turn speaker='ava' style='empathetic'>{r['text']}</mstts:turn>\"\n",
    "            elif sentiment == 'cheerful':\n",
    "                ssml += f\"\\n<mstts:turn speaker='ava' style='sports_commentary'>{r['text']}</mstts:turn>\"\n",
    "        else:\n",
    "            sentiment = r['sentiment']\n",
    "            if sentiment == 'exciting':\n",
    "                ssml += f\"\\n<mstts:turn speaker='andrew' style='sports_commentary_excited'>{r['text']}</mstts:turn>\"\n",
    "            elif sentiment == 'serious':\n",
    "                ssml += f\"\\n<mstts:turn speaker='andrew' style='serious'>{r['text']}</mstts:turn>\"\n",
    "            elif sentiment == 'empathetic':\n",
    "                ssml += f\"\\n<mstts:turn speaker='andrew' style='empathetic'>{r['text']}</mstts:turn>\"\n",
    "            elif sentiment == 'cheerful':\n",
    "                ssml += f\"\\n<mstts:turn speaker='andrew' style='sports_commentary'>{r['text']}</mstts:turn>\"\n",
    "    ssml += \"\\n</mstts:dialog>\"\n",
    "    ssml += \"\\n</voice>\"\n",
    "    ssml += \"\\n</speak>\"\n",
    "\n",
    "    #print(ssml)\n",
    "\n",
    "    return ssml"
   ]
  },
  {
   "cell_type": "code",
   "execution_count": 15,
   "metadata": {},
   "outputs": [],
   "source": [
    "import azure.cognitiveservices.speech as speechsdk\n",
    "import os\n",
    "speech_key = os.getenv('SPEECH_KEY')\n",
    "service_region = os.getenv('SPEECH_REGION')\n",
    "speech_config = speechsdk.SpeechConfig(subscription=speech_key, region=service_region)"
   ]
  },
  {
   "cell_type": "code",
   "execution_count": 16,
   "metadata": {},
   "outputs": [],
   "source": [
    "import random\n",
    "import string\n",
    "\n",
    "def generate_random_filename(length=8):\n",
    "    letters = string.ascii_lowercase\n",
    "    return ''.join(random.choice(letters) for i in range(length))\n",
    "\n",
    "def generate_podcast(ssml, filename=None):\n",
    "    if filename is None:\n",
    "        temporary_file= \"./\" + generate_random_filename() + \".wav\"\n",
    "    else:\n",
    "        temporary_file = filename\n",
    "        \n",
    "    audio_output = speechsdk.audio.AudioOutputConfig(filename=temporary_file)\n",
    "\n",
    "    # Creates a speech synthesizer using the Azure Speech Service.\n",
    "    speech_synthesizer = speechsdk.SpeechSynthesizer(speech_config=speech_config, audio_config=audio_output)\n",
    "    result = speech_synthesizer.speak_ssml_async(ssml).get()\n",
    "    if result.reason == speechsdk.ResultReason.SynthesizingAudioCompleted:\n",
    "        print(\"Speech synthesis was successful. Audio was written to '{}'\".format(temporary_file))\n",
    "    elif result.reason == speechsdk.ResultReason.Canceled:\n",
    "        cancellation_details = result.cancellation_details\n",
    "        print(\"Speech synthesis canceled: {}\".format(cancellation_details.reason))\n",
    "        if cancellation_details.reason == speechsdk.CancellationReason.Error:\n",
    "            if cancellation_details.error_details:\n",
    "                print(\"Error details: {}\".format(cancellation_details.error_details))\n",
    "        print(\"Did you update the subscription info?\")"
   ]
  },
  {
   "cell_type": "code",
   "execution_count": 17,
   "metadata": {},
   "outputs": [],
   "source": [
    "# HD voice\n",
    "#host_voice = 'en-us-Ava:DragonHDLatestNeural'\n",
    "#guest_voice = 'en-us-Andrew2:DragonHDLatestNeural'\n",
    "\n",
    "# Neural Voice\n",
    "host_voice = 'en-US-Ava3:DragonHDLatestNeural'\n",
    "guest_voice = 'en-US-Andrew3:DragonHDLatestNeural'\n",
    "multi_turn_voice = 'en-US-MultiTalker-Ava-Andrew:DragonHDLatestNeural'"
   ]
  },
  {
   "cell_type": "code",
   "execution_count": 18,
   "metadata": {},
   "outputs": [
    {
     "name": "stdout",
     "output_type": "stream",
     "text": [
      "Speech synthesis was successful. Audio was written to 'game_recap_clip_tones.wav'\n",
      "Info: on_underlying_io_bytes_received: Close frame received\n",
      "Info: on_underlying_io_bytes_received: closing underlying io.\n",
      "Info: on_underlying_io_close_complete: uws_state: 6.\n"
     ]
    }
   ],
   "source": [
    "temp = 0.9\n",
    "ssml = generate_ssml(host_voice, guest_voice)\n",
    "generate_podcast(ssml, \"game_recap_clip_tones.wav\")\n",
    "\n",
    "#ssml_multi = generate_multiturn_ssml(multi_turn_voice)\n",
    "#print(ssml_multi)\n",
    "#generate_podcast(ssml_multi, \"game_recap_clip.wav\")"
   ]
  },
  {
   "cell_type": "code",
   "execution_count": 13,
   "metadata": {},
   "outputs": [],
   "source": [
    "# Non-HD voice\n",
    "#host_voice = \"ko-KR-SunHiNeural\"\n",
    "#guest_voice = \"ko-KR-InJoonNeural\""
   ]
  }
 ],
 "metadata": {
  "kernelspec": {
   "display_name": ".venv",
   "language": "python",
   "name": "python3"
  },
  "language_info": {
   "codemirror_mode": {
    "name": "ipython",
    "version": 3
   },
   "file_extension": ".py",
   "mimetype": "text/x-python",
   "name": "python",
   "nbconvert_exporter": "python",
   "pygments_lexer": "ipython3",
   "version": "3.11.12"
  }
 },
 "nbformat": 4,
 "nbformat_minor": 2
}
